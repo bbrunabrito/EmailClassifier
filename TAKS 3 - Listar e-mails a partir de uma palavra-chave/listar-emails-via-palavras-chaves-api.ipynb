{
 "cells": [
  {
   "cell_type": "code",
   "execution_count": null,
   "metadata": {},
   "outputs": [],
   "source": [
    "from __future__ import print_function\n",
    "import os.path\n",
    "from google.auth.transport.requests import Request\n",
    "from google.oauth2.credentials import Credentials\n",
    "from google_auth_oauthlib.flow import InstalledAppFlow\n",
    "from googleapiclient.discovery import build\n",
    "from googleapiclient.errors import HttpError\n",
    "import base64\n",
    "import email"
   ]
  },
  {
   "cell_type": "code",
   "execution_count": null,
   "metadata": {},
   "outputs": [],
   "source": [
    "# If modifying these scopes, delete the file token.pickle.\n",
    "#Escopo de permissão da API\n",
    "SCOPES = ['https://www.googleapis.com/auth/gmail.readonly']"
   ]
  },
  {
   "cell_type": "code",
   "execution_count": null,
   "metadata": {},
   "outputs": [],
   "source": [
    "#OBS: necessário arquivo credentials.json na workspace\n",
    "#Caso queira refazer a conexão, basta apagar o arquivo token.json na workspace\n",
    "def auth():\n",
    "    \"\"\"Conexão com a API para autenticação\n",
    "\n",
    "    Returns: um objeto \"service\" para futuras chamadas de API.\n",
    "    \"\"\"\n",
    "    \n",
    "    creds = None\n",
    "\n",
    "    if os.path.exists('token.json'):\n",
    "        creds = Credentials.from_authorized_user_file('token.json', SCOPES)\n",
    "\n",
    "    if not creds or not creds.valid:\n",
    "        if creds and creds.expired and creds.refresh_token:\n",
    "            creds.refresh(Request())\n",
    "        else:\n",
    "            flow = InstalledAppFlow.from_client_secrets_file(\n",
    "                'credentials.json', SCOPES)\n",
    "            creds = flow.run_local_server(port=0)\n",
    "            \n",
    "        # Save the credentials for the next run\n",
    "        with open('token.json', 'w') as token:\n",
    "            token.write(creds.to_json())\n",
    "            \n",
    "    service = build('gmail', 'v1', credentials=creds)\n",
    "    return service"
   ]
  },
  {
   "cell_type": "code",
   "execution_count": null,
   "metadata": {},
   "outputs": [],
   "source": [
    "def searchStringMessage(service, userID, searchString):\n",
    "    \"\"\"\n",
    "    Esta função irá retornar a lista com ID das mensagem que possuem a string (palavra) em questão\n",
    "    Args:\n",
    "        service: autenticação da API\n",
    "        userID: id do usuário, no caso, o cliente, será sempre \"me\"(eu)\n",
    "        searchString: apenas retornará as mensagem com o texto ou palavra presente presente\n",
    "    Returns: lista com todos os IDs com a searchString em específico.\n",
    "    \"\"\"\n",
    "    try: \n",
    "        idList = [] #inicializando a lista\n",
    "        \n",
    "        #adquirindo a mensagem (aonde a mágica acontece!)\n",
    "        searchIds = service.users().messages().list(userId=userID, q=searchString).execute()\n",
    "        \n",
    "        try:\n",
    "            EmailIds = searchIds ['messages']\n",
    "        except KeyError:\n",
    "            print(\"retornado 0 resultados\")\n",
    "            return idList\n",
    "        \n",
    "        if len(EmailIds)>=1:    #anexa todos os emails na lista \"idList\"\n",
    "            for msg_id in EmailIds:\n",
    "                idList.append(msg_id['id'])\n",
    "            return (idList)\n",
    "    except HttpError as error:\n",
    "        print(\"ocorreu um erro: %s\", error)"
   ]
  },
  {
   "cell_type": "code",
   "execution_count": null,
   "metadata": {},
   "outputs": [],
   "source": [
    "def viewMessage(service, userID, msgID):\n",
    "    \"\"\"\n",
    "    Esta função mostra os emails presente na lista de ID\n",
    "    Args:\n",
    "        service: autenticação da API\n",
    "        userID: id do usuário, no caso, o cliente, será sempre \"me\"(eu)\n",
    "        msgID: iD da mensagem em questão\n",
    "    Returns: os emails em sua parte texto e html\n",
    "    \"\"\"\n",
    "    try:\n",
    "        message = service.users().messages().get(userId=userID, id=msgID, format='raw').execute() #retorna a mensagem em formato raw codificado em base64\n",
    "        mime_msg = email.message_from_bytes(base64.urlsafe_b64decode(message['raw']))\n",
    "        \n",
    "        print(\"-----\")        \n",
    "        contentType = mime_msg.get_content_maintype()\n",
    "        if contentType == 'multipart':\n",
    "            for part in mime_msg.get_payload():\n",
    "                if part.get_content_maintype() == 'text':\n",
    "                    print(part.get_payload())\n",
    "        elif contentType == 'text':\n",
    "            print(mime_msg.get_payload())\n",
    "        print(\"-----\")\n",
    "        \n",
    "    except Exception as error:\n",
    "        print(\"ocorreu um erro: %s\", error)"
   ]
  },
  {
   "cell_type": "code",
   "execution_count": null,
   "metadata": {},
   "outputs": [],
   "source": [
    "def viewMessageSnippet(service, userID, msgID):\n",
    "    \"\"\"\n",
    "    Esta função mostra os emails presente na lista de ID, apenas o subject e o snippet da mensagem\n",
    "    Args:\n",
    "        service: autenticação da API\n",
    "        userID: id do usuário, no caso, o cliente, será sempre \"me\"(eu)\n",
    "        msgID: iD da mensagem em questão\n",
    "    Returns: os emails em sua parte texto e html\n",
    "    \"\"\"\n",
    "    try:\n",
    "        message = service.users().messages().get(userId=userID, id=msgID, format='raw').execute() #retorna a mensagem em formato raw codificado em base64\n",
    "        mime_msg = email.message_from_bytes(base64.urlsafe_b64decode(message['raw']))\n",
    "        \n",
    "        #print(mime_msg['from']) mostrar o email do remetente       \n",
    "        #print(mime_msg['to'])  mostrar o email do destinatário\n",
    "        print(mime_msg['subject'])\n",
    "        print(message['snippet'])\n",
    "        print(' ')\n",
    "        \n",
    "    except Exception as error:\n",
    "        print(\"ocorreu um erro: %s\", error) "
   ]
  },
  {
   "cell_type": "code",
   "execution_count": null,
   "metadata": {},
   "outputs": [
    {
     "name": "stdout",
     "output_type": "stream",
     "text": [
      "['1872a60f538c0bdd', '1872a5bddc955778']\n"
     ]
    }
   ],
   "source": [
    "#conexão com a API via auth e retornar um objeto (service) \n",
    "service = auth()\n",
    "# o nome do usuário e o termo a ser pesquisado.\n",
    "userID = 'me'    \n",
    "q = \"problema\" \n",
    "\n",
    "#salvar a pesquisa em \"IDs\" e logo em seguida exibir\n",
    "IDs = searchStringMessage(service, userID, q)\n",
    "print(IDs)"
   ]
  },
  {
   "cell_type": "code",
   "execution_count": null,
   "metadata": {},
   "outputs": [
    {
     "name": "stdout",
     "output_type": "stream",
     "text": [
      "Eu tento notificar um problema de inscri=C3=A7=C3=A3o\n",
      "\n",
      "None\n",
      "N=C3=A3o sei o que fazer para relatar problemas de pagamento\n",
      "\n",
      "None\n"
     ]
    }
   ],
   "source": [
    "#visualizar as mensagens de cada ID.\n",
    "for i in IDs:\n",
    "    print(viewMessageSnippet(service, userID, i)) #apenas o snippet da mensagem"
   ]
  },
  {
   "cell_type": "code",
   "execution_count": null,
   "metadata": {},
   "outputs": [],
   "source": [
    "#visualizar as mensagens de cada ID.\n",
    "for i in IDs:\n",
    "    print(viewMessage(service, userID, i)) #mensagem fullBody"
   ]
  }
 ],
 "metadata": {
  "kernelspec": {
   "display_name": "Python 3",
   "language": "python",
   "name": "python3"
  },
  "language_info": {
   "codemirror_mode": {
    "name": "ipython",
    "version": 3
   },
   "file_extension": ".py",
   "mimetype": "text/x-python",
   "name": "python",
   "nbconvert_exporter": "python",
   "pygments_lexer": "ipython3",
   "version": "3.11.2"
  },
  "orig_nbformat": 4
 },
 "nbformat": 4,
 "nbformat_minor": 2
}
