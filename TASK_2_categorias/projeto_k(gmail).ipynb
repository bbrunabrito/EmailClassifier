{
  "nbformat": 4,
  "nbformat_minor": 0,
  "metadata": {
    "colab": {
      "provenance": []
    },
    "kernelspec": {
      "name": "python3",
      "display_name": "Python 3"
    },
    "language_info": {
      "name": "python"
    }
  },
  "cells": [
    {
      "cell_type": "markdown",
      "source": [
        "## 1\n"
      ],
      "metadata": {
        "id": "qIxKMYytn2q5"
      }
    },
    {
      "cell_type": "code",
      "execution_count": null,
      "metadata": {
        "id": "5LgTZMYFpxiO"
      },
      "outputs": [],
      "source": [
        "from googleapiclient.discovery import build\n",
        "from google.oauth2 import service_account\n",
        "from google.oauth2.credentials import Credentials"
      ]
    },
    {
      "cell_type": "code",
      "source": [
        "# Autenticação com uma conta de serviço\n",
        "SCOPES = ['https://www.googleapis.com/auth/cloud-platform']\n",
        "\n",
        "# insirir caminho de altenticação\n",
        "SERVICE_ACCOUNT_FILE = \"/content/token.json\"\n",
        "\n",
        "creds = service_account.Credentials.from_service_account_file(SERVICE_ACCOUNT_FILE, scopes=SCOPES)"
      ],
      "metadata": {
        "id": "boCcJo72p7ct"
      },
      "execution_count": null,
      "outputs": []
    },
    {
      "cell_type": "code",
      "source": [
        "# Conexão com a API do Gmail\n",
        "service = build('gmail', 'v1', credentials=creds)"
      ],
      "metadata": {
        "id": "l74XiYPsp_4X"
      },
      "execution_count": null,
      "outputs": []
    },
    {
      "cell_type": "code",
      "source": [
        "# IDs dos e-mails que deseja rotular\n",
        "message_ids = ['123abc', '456def']"
      ],
      "metadata": {
        "id": "fyg6Hpy-qFvJ"
      },
      "execution_count": null,
      "outputs": []
    },
    {
      "cell_type": "code",
      "source": [
        "# Rótulo que deseja adicionar\n",
        "label = 'Label_1'"
      ],
      "metadata": {
        "id": "btdedl3gqHWS"
      },
      "execution_count": null,
      "outputs": []
    },
    {
      "cell_type": "code",
      "source": [
        "# Fazendo a solicitação POST para rotular os e-mails\n",
        "body = {'addLabelIds': [label]}\n",
        "service.users().messages().batchModify(\n",
        "    userId='me', body=body, ids=message_ids).execute()"
      ],
      "metadata": {
        "id": "Sb5oxLMHqI-E"
      },
      "execution_count": null,
      "outputs": []
    }
  ]
}