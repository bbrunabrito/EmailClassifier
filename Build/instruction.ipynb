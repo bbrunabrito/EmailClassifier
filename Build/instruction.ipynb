{
 "cells": [
  {
   "cell_type": "code",
<<<<<<< HEAD
   "execution_count": null,
=======
   "execution_count": 14,
>>>>>>> f90bfd077b13d593612e12e151c555ce9acc12ae
   "metadata": {},
   "outputs": [],
   "source": [
    "import os.path\n",
    "from google.auth.transport.requests import Request\n",
    "from google.oauth2.credentials import Credentials\n",
    "from google_auth_oauthlib.flow import InstalledAppFlow\n",
    "from googleapiclient.discovery import build\n",
    "from googleapiclient.errors import HttpError\n",
    "import base64\n",
    "import pandas as pd \n",
    "import time\n",
    "from email.mime.text import MIMEText\n",
    "import email\n",
    "import traceback"
   ]
  },
  {
   "cell_type": "code",
<<<<<<< HEAD
   "execution_count": null,
=======
   "execution_count": 15,
>>>>>>> f90bfd077b13d593612e12e151c555ce9acc12ae
   "metadata": {},
   "outputs": [],
   "source": [
    "#Autenticação do usuario e criação do arquivo tokens.json\n",
    "\n",
    "SCOPES = ['https://www.googleapis.com/auth/gmail.readonly', \n",
    "          'https://www.googleapis.com/auth/gmail.modify']\n",
    "\n",
    "\n",
    "creds = None\n",
    "\n",
    "if os.path.exists('token.json'):\n",
    "    creds = Credentials.from_authorized_user_file('token.json', SCOPES)\n",
    "\n",
    "if not creds or not creds.valid:\n",
    "    if creds and creds.expired and creds.refresh_token:\n",
    "        creds.refresh(Request())\n",
    "    else:\n",
    "        flow = InstalledAppFlow.from_client_secrets_file(\n",
    "            'credentials.json', SCOPES)\n",
    "        creds = flow.run_local_server(port=0)\n",
    "    # Save the credentials for the next run\n",
    "    with open('token.json', 'w') as token:\n",
<<<<<<< HEAD
    "        token.write(creds.to_json())"
=======
    "        token.write(creds.to_json())\n"
>>>>>>> f90bfd077b13d593612e12e151c555ce9acc12ae
   ]
  },
  {
   "cell_type": "code",
<<<<<<< HEAD
   "execution_count": null,
=======
   "execution_count": 16,
>>>>>>> f90bfd077b13d593612e12e151c555ce9acc12ae
   "metadata": {},
   "outputs": [],
   "source": [
    "creds = Credentials.from_authorized_user_file('token.json', SCOPES)\n",
    "service = build('gmail', 'v1', credentials=creds)"
   ]
  },
  {
   "cell_type": "code",
<<<<<<< HEAD
   "execution_count": null,
   "metadata": {},
   "outputs": [],
=======
   "execution_count": 17,
   "metadata": {},
   "outputs": [
    {
     "data": {
      "text/plain": [
       "[{'id': '187a5944309d6918', 'threadId': '187a593f800fc035'},\n",
       " {'id': '187a562b17a01948', 'threadId': '187a4a951789bc89'},\n",
       " {'id': '187a55dc1e0076ab', 'threadId': '187a4a951789bc89'},\n",
       " {'id': '187a4a951789bc89', 'threadId': '187a4a951789bc89'},\n",
       " {'id': '1878c9399303fdcb', 'threadId': '1878c9399303fdcb'},\n",
       " {'id': '1878c936e311a66d', 'threadId': '1878c936e311a66d'},\n",
       " {'id': '1878c9347a4d38ee', 'threadId': '1878c9347a4d38ee'},\n",
       " {'id': '1878c931c6b9f6a5', 'threadId': '1878c931c6b9f6a5'},\n",
       " {'id': '1878c92f1a77f1cd', 'threadId': '1878c92f1a77f1cd'},\n",
       " {'id': '1878c92c8ade7c63', 'threadId': '1878c92c8ade7c63'}]"
      ]
     },
     "execution_count": 17,
     "metadata": {},
     "output_type": "execute_result"
    }
   ],
>>>>>>> f90bfd077b13d593612e12e151c555ce9acc12ae
   "source": [
    "#Função que escreve os emails em um arquivo txt\n",
    "def get_emails():\n",
    "    with open('emails.txt', 'w', encoding='utf-8') as f:\n",
    "        try:\n",
    "            service = build('gmail', 'v1', credentials=creds)\n",
    "            results = service.users().messages().list(userId='me', maxResults=10).execute()\n",
    "            messages = results.get('messages', [])\n",
    "\n",
    "            for message in messages:\n",
    "                msg = service.users().messages().get(userId='me', id=message['id']).execute()\n",
    "                payload = msg['payload']\n",
    "                headers = payload['headers']\n",
    "                \n",
    "                #Escreve o remetente, o assunto e a data\n",
    "                for header in headers:\n",
    "                    if header['name'] == 'From':\n",
    "                        f.write(f\"From: {header['value']}\\n\")\n",
    "                    if header['name'] == 'Subject':\n",
    "                        f.write(f\"Subject: {header['value']}\\n\")\n",
    "                    if header['name'] == 'Date':\n",
    "                        f.write(f\"Date: {header['value']}\\n\")\n",
    "                \n",
    "                #Se o corpo do email está vazio ou não segue o padrao MIME, a mensagem abaixo é escrita e o loop volta\n",
    "                if 'parts' not in payload:\n",
    "                    f.write(\"e-mail não contem nenhuma parte com o tipo MIME\\n\")\n",
    "                    f.write(\"---------------------------------------------------------\\n\")    \n",
    "                    continue\n",
    "            \n",
    "                #Escreve o corpo do email\n",
    "                parts = payload['parts']\n",
    "                for part in parts:\n",
    "                    if part['mimeType'] == 'text/plain':\n",
    "                        body = part['body']['data']\n",
    "                        decoded_body = base64.urlsafe_b64decode(body).decode('utf-8')\n",
    "                        f.write(f\"Body: {decoded_body}\\n\")\n",
    "\n",
    "                f.write(\"---------------------------------------------------------\\n\")\n",
    "        except HttpError as error:\n",
    "            f.write(f\"An error occurred: {error}\\n\")\n",
    "            messages = []\n",
    "\n",
    "    return messages\n",
    "\n",
    "get_emails()"
   ]
  },
  {
   "cell_type": "code",
<<<<<<< HEAD
   "execution_count": null,
=======
   "execution_count": 18,
>>>>>>> f90bfd077b13d593612e12e151c555ce9acc12ae
   "metadata": {},
   "outputs": [],
   "source": [
    "def searchStringMessage(service, userID, searchString):\n",
    "    \"\"\"\n",
    "    Esta função irá retornar a lista com ID das mensagem que possuem a string (palavra) em questão\n",
    "    Args:\n",
    "        service: autenticação da API\n",
    "        userID: id do usuário, no caso, o cliente, será sempre \"me\"(eu)\n",
    "        searchString: apenas retornará as mensagem com o texto ou palavra presente presente\n",
    "    Returns: lista com todos os IDs com a searchString em específico.\n",
    "    \"\"\"\n",
    "    try: \n",
    "        idList = [] #inicializando a lista\n",
    "        \n",
    "        #adquirindo a mensagem (aonde a mágica acontece!)\n",
    "        searchIds = service.users().messages().list(userId=userID, q=searchString).execute()\n",
    "        \n",
    "        try:\n",
    "            EmailIds = searchIds ['messages']\n",
    "        except KeyError:\n",
    "            print(\"retornado 0 resultados\")\n",
    "            return idList\n",
    "        \n",
    "        if len(EmailIds)>=1:    #anexa todos os emails na lista \"idList\"\n",
    "            for msg_id in EmailIds:\n",
    "                idList.append(msg_id['id'])\n",
    "            return (idList)\n",
    "    except HttpError as error:\n",
    "        print(\"ocorreu um erro: %s\", error) "
   ]
  },
  {
   "cell_type": "code",
<<<<<<< HEAD
   "execution_count": null,
=======
   "execution_count": 19,
>>>>>>> f90bfd077b13d593612e12e151c555ce9acc12ae
   "metadata": {},
   "outputs": [],
   "source": [
    "def viewMessage(service, userID, msgID):\n",
    "    \"\"\"\n",
    "    Esta função mostra os emails presente na lista de ID\n",
    "    Args:\n",
    "        service: autenticação da API\n",
    "        userID: id do usuário, no caso, o cliente, será sempre \"me\"(eu)\n",
    "        msgID: iD da mensagem em questão\n",
    "    Returns: o email em sua parte texto e html\n",
    "    \"\"\"\n",
    "    try:\n",
    "        message = service.users().messages().get(userId=userID, id=msgID, format='raw').execute() #retorna a mensagem em formato raw codificado em base64\n",
    "        mime_msg = email.message_from_bytes(base64.urlsafe_b64decode(message['raw']))\n",
    "        \n",
    "        print(\"-----\")        \n",
    "        contentType = mime_msg.get_content_maintype()\n",
    "        if contentType == 'multipart':\n",
    "            for part in mime_msg.get_payload():\n",
    "                if part.get_content_maintype() == 'text':\n",
    "                    print(part.get_payload())\n",
    "        elif contentType == 'text':\n",
    "            print(mime_msg.get_payload())\n",
    "        print(\"-----\")\n",
    "        \n",
    "    except Exception as error:\n",
    "        print(\"ocorreu um erro: %s\", error)"
   ]
  },
  {
   "cell_type": "code",
<<<<<<< HEAD
   "execution_count": null,
=======
   "execution_count": 20,
>>>>>>> f90bfd077b13d593612e12e151c555ce9acc12ae
   "metadata": {},
   "outputs": [],
   "source": [
    "def viewMessageSnippet(service, userID, msgID):\n",
    "    \"\"\"\n",
    "    Esta função mostra os emails presente na lista de ID, apenas o subject e o snippet da mensagem\n",
    "    Args:\n",
    "        service: autenticação da API\n",
    "        userID: id do usuário, no caso, o cliente, será sempre \"me\"(eu)\n",
    "        msgID: iD da mensagem em questão\n",
    "    Returns: o snippet do email\n",
    "    \"\"\"\n",
    "    try:\n",
    "        message = service.users().messages().get(userId=userID, id=msgID, format='raw').execute() #retorna a mensagem em formato raw codificado em base64\n",
    "        mime_msg = email.message_from_bytes(base64.urlsafe_b64decode(message['raw']))\n",
    "        \n",
    "        #print(mime_msg['from']) mostrar o email do remetente       \n",
    "        #print(mime_msg['to'])  mostrar o email do destinatário\n",
    "        print(mime_msg['subject'])\n",
    "        print(message['snippet'])\n",
    "        print(' ')\n",
    "        \n",
    "    except Exception as error:\n",
    "        print(\"ocorreu um erro: %s\", error) \n"
   ]
  },
  {
   "cell_type": "code",
<<<<<<< HEAD
   "execution_count": null,
   "metadata": {},
   "outputs": [],
=======
   "execution_count": 36,
   "metadata": {},
   "outputs": [
    {
     "name": "stdout",
     "output_type": "stream",
     "text": [
      "A palavra 'REEMBOLSO' tem 41 IDs correspondentes.\n",
      "A palavra 'CONTA' tem 100 IDs correspondentes.\n",
      "A palavra 'ENTREGA' tem 78 IDs correspondentes.\n",
      "A palavra 'CONTATO' tem 28 IDs correspondentes.\n",
      "A palavra 'PAGAMENTO' tem 31 IDs correspondentes.\n",
      "A palavra 'FATURA' tem 24 IDs correspondentes.\n",
      "A palavra 'CANCELAMENTO' tem 23 IDs correspondentes.\n",
      "A palavra 'RASTREAR' tem 13 IDs correspondentes.\n",
      "A palavra 'NOTÍCIAS' tem 18 IDs correspondentes.\n",
      "A palavra 'OPINIÃO' tem 32 IDs correspondentes.\n",
      "A palavra 'HORA' tem 1 IDs correspondentes.\n",
      "A palavra 'PEDIDO' tem 33 IDs correspondentes.\n",
      "A palavra 'ORDEM' tem 41 IDs correspondentes.\n",
      "REEMBOLSO ['1878c912b6b6a282', '1878c90830e957f3', '1878c8d9916135e9', '1878c8c2206adb90', '1878c8b28ab1e0e1', '1878c8a7fc334ad2', '1878c893623b32d1', '1878c888ec3c9f08', '1878c8810ecf9a46', '1878c8455998f9da', '1878c8428b2703c5', '1878c81b9e8677a7', '1878c8113a38f3d9', '1878c7ea6271c788', '1878c7dd4ad649f0', '1878c7dac9652fa1', '1878c7c363619e24', '1878c78f88634020', '1878c775a3b7ef81', '1878c73c9ee219e5', '1878c71083b9beea', '1878c703b5da0f67', '1878c6f93cebc487', '1878c6e72519377e', '1878c6c04bd38683', '18768307d8edfbb3', '187682f51ca0fd38', '1876829727fdf59d', '1876825267899f5d', '18768213f3eeb60e', '187681e1ed969f0d', '18768196e3eeeb21', '187680fa773b0464', '187680a8ff7fde48', '1876807d3ea1e4b8', '1876802bab007ac1', '1876801f2c0f33e8', '18767fc7aab8a5e3', '18767fbb3d4f35fe', '1872a61a746b36ea', '1872a5edd6237caf']\n",
      "CONTA ['187a5971df23b137', '187a5944309d6918', '187a562b17a01948', '187a55dc1e0076ab', '187a4a951789bc89', '1878c931c6b9f6a5', '1878c929fc2c3ac8', '1878c91a789fd100', '1878c8f8ad81e503', '1878c8dea1c1abdb', '1878c8dbe5b71ff7', '1878c8d422d3a478', '1878c8bf895ca7c2', '1878c8aff3f9ade9', '1878c8aabe267090', '1878c8a05e9eba1c', '1878c89b0c603806', '1878c88b7a93980b', '1878c86efa997d07', '1878c869d31c1ed0', '1878c861e57c5409', '1878c85793e76026', '1878c8522acda115', '1878c84faef512f3', '1878c84cec68a5d1', '1878c82dc7b21c6b', '1878c8288944e5dd', '1878c8237d6b91a8', '1878c820c051c9c2', '1878c8096f4314dd', '1878c80445dc9c9b', '1878c7f233181744', '1878c7d83c711eac', '1878c7d5830266ad', '1878c7d304fdb613', '1878c7d0738352d5', '1878c79c9d053b15', '1878c792170c99f2', '1878c785219a9e40', '1878c76de22c2c5e', '1878c74c3166cd3f', '1878c744660a11b2', '1878c734c297b452', '1878c727dcfc5270', '1878c7255a7db1ac', '1878c72005a39576', '1878c70b442fed3d', '1878c708ba74e41c', '1878c6fbc62e3833', '1878c6f6ae1d483e', '1878c6ec5472dd9b', '1878c6e1ed44dd08', '1878c6da2cf516b6', '1878c6d50bdd1635', '1878c6cfdd634ac5', '1878c6c8166c9ea1', '1878c6c2d3444bfa', '1878c6b8936a9f82', '187682c92439722a', '187682a3b4702937', '18768290e8e28730', '187682847b1e414c', '1876827e0dd30e5f', '18768271b4356f00', '18768258b296d44a', '1876824c286a1ef6', '1876823f91426bda', '187682396ec5d17f', '18768226bedc522c', '187681f4a82868e7', '187681db8d51bde1', '187681c8c3d781de', '187681affa3c3c26', '187681a35586943d', '1876819d2742f000', '1876817df316ec75', '18768177b4c847f1', '187681714b0fca74', '1876815eb25be408', '18768132d9ec6905', '187681264e3181b0', '187680e7c32d19d3', '187680c84ba4eef5', '1876808ffe8a5b60', '18768076e3dce66b', '1876805db6b97dab', '1876805783fc8a5f', '18768051545c4e94', '1876803e7e7756a1', '18767ff37adda0f4', '18767fed4cdcdbc8', '18767fb4fa89fcf0', '18767faeb73fce25', '18767fa861043243', '18767f8f817dfe8e', '18767f892bbdb289', '1872da4f941a554a', '1872a63092c4af32', '1872a6257de6494f', '1872a60f538c0bdd']\n",
      "ENTREGA ['1878c92c8ade7c63', '1878c9277bff6c09', '1878c924ccef0941', '1878c8fb5fd71289', '1878c8ebbfc10c1d', '1878c8c9e83b217d', '1878c8b7b0f097c4', '1878c89db1d8c53c', '1878c88e2b601263', '1878c886483750bd', '1878c87e8feb3ac3', '1878c876bf72be75', '1878c85f40b8a908', '1878c85a2322f034', '1878c84a6e254cfa', '1878c82b24dd5e3f', '1878c81e38048d83', '1878c813d0906e23', '1878c7ff1ffef41e', '1878c7f9f7217921', '1878c7e28b0bc55c', '1878c7c8a2eb1d0e', '1878c7b6729cfa88', '1878c7b13c65e646', '1878c7aeb733f983', '1878c7ac3dd8896f', '1878c78295eace03', '1878c7731bd47479', '1878c76b3565ddf0', '1878c768a679e63e', '1878c76382f0a386', '1878c75695719915', '1878c753e4eab156', '1878c749aef54373', '1878c73a023f1f4c', '1878c72f9dbbe1c0', '1878c72d1946e940', '1878c71854a5a96a', '1878c70de55234eb', '1878c6f417990c27', '1878c6df71d45678', '1878c6cd40ffd3c6', '1878c6cab2140db9', '1878c6c597f4328c', '1878c6ac2cb07bd6', '187682eed211bb6b', '187682e88037ce28', '187682cf862166ce', '187682c2e9b64621', '187682b66e3e0e33', '187682aa00520abd', '1876825eefbe5859', '18768245df9b08e5', '1876822ce03b7a7d', '1876822061b9db73', '1876821a1caa27cc', '187682013adbf689', '187681bc7a3a5ff8', '18768190ade53542', '187681522d7b3693', '1876814be2c17f2a', '18768113746daab3', '187680c1eaa19eb4', '187680bbc058be18', '187680b5898cbe14', '1876809c6b2a816c', '18768083526281d8', '18768063ea4fba33', '187680256ad21c40', '1876800c6a2cfc77', '18767ffff1b89327', '18767fd42f482376', '18767fc168612882', '18767fa22be4ec4f', '1872a6043138dfed', '1872a591796fe935', '1872a58649ec8a8e', '1872a570339c83a0']\n",
      "CONTATO ['1878c936e311a66d', '1878c8fdc1e93907', '1878c8e3d608392d', '1878c8ba61688f73', '1878c895f1bfb211', '1878c890c866404b', '1878c8403222da81', '1878c83aa92e0fc1', '1878c8304ffa3364', '1878c81660ae86de', '1878c7c0cd51d00c', '1878c7be5a929320', '1878c7bbb6cfc4be', '1878c7b9174077fe', '1878c7a6e5a3143b', '1878c79a107a0419', '1878c794a03dd77a', '1878c6dcc9a7fb91', '187682d5cb6e1cbe', '187682bca1da1559', '187682333a05c58e', '1876820da81c9221', '187680ede79963bd', '187680e183f36a6d', '187680db0eabdc44', '187680963eda9e38', '18768089b4890752', '1872a5c8f4a2621f']\n",
      "PAGAMENTO ['1878c91015982ae4', '1878c8a57e99a335', '1878c86c56e893ea', '1878c864684b279a', '1878c854eb340c0e', '1878c83d4c147d87', '1878c80c0a33b288', '1878c7f74609e66e', '1878c7ece9d66975', '1878c7cb2ddc212c', '1878c7c6132eadad', '1878c7977479228c', '1878c72a705380e2', '1878c722bbba7e33', '1878c6fe700396f1', '1878c6e9d651413a', '1876829d7f419a59', '1876820767479733', '187681faf0b2e093', '187681b601dbec38', '1876816b231f8ccb', '1876813f7bc4343a', '187680f437432226', '187680d4ccfc5234', '187680af3b5a15b6', '1876807095c7b86f', '18768006237feff4', '18767ff9db29a01a', '18767fda85f566ca', '1872d9a4beca4b8b', '1872a5bddc955778']\n",
      "FATURA ['1878c9399303fdcb', '1878c91527c0bfc9', '1878c883ce631469', '1878c8382d5acab8', '1878c80193f71c59', '1878c7f4ba154622', '1878c7e01c6762e8', '1878c7a448e2188a', '1878c79f25fcb17d', '1878c77ffd1ac827', '1878c7783c92b3d2', '1878c71d8e0f3a7c', '1878c71ac67c628e', '1878c7133125830c', '1878c6f17d300ff8', '187683018e887241', '187682dc0fd6d853', '1876828aa8ffcf34', '187681ee508c1a3a', '18768164f7142880', '18768100a7b60c62', '187680cea08ecb6c', '18767f69ff413b23', '1872d9a4beca4b8b']\n",
      "CANCELAMENTO ['187a5944309d6918', '1878c91d150aa816', '1878c8d1b4e2a63e', '1878c8c4be77e946', '1878c8b53f139b1f', '1878c8987718d98a', '1878c8672b72b353', '1878c85cc7f3b79e', '1878c78ceacc3070', '1878c7660eb964a4', '1878c760f45f5ea8', '1878c741c22534f2', '1878c732578546c1', '1878c715b7ebbb65', '18768277fadbf6d6', '187681a9a0dc48da', '187681841b02173e', '18768145a1034c1b', '18768044fcd7fe18', '18767f9588d458e0', '18767f7cb92d8f89', '1872a5d45d322cf4', '1872a57b48afc0ba']\n",
      "RASTREAR ['1878c8c7502e0ca7', '1878c87beef60a08', '1878c87186703ef8', '1878c7fc62bced73', '1878c78f88634020', '1878c703b5da0f67', '1878c6d2763b4681', '187681e8162eea82', '1876804ae835aacd', '187680383fc61849', '1876802bab007ac1', '18767fe0a26d831a', '1872a5edd6237caf']\n",
      "NOTÍCIAS ['1878c92f1a77f1cd', '1878c90aa02f178e', '1878c879536444ff', '1878c8330d190bae', '1878c7b3e8e9253e', '1878c7a99e579b44', '1878c7a1c78690c5', '1878c75bde502f3b', '1878c6bdbf424a52', '1878c6bb3835efbe', '187681587eb40d94', '1876812c952e2ef6', '18768119a614d137', '187680a2aab1c29a', '1876806a72358939', '18767f9befe9a10f', '18767f63c2b6e664', '1872928164871315']\n",
      "OPINIÃO ['1878c91f84eb7e60', '1878c917d2d8d547', '1878c8f0d34be389', '1878c8ee2609b7d2', '1878c8e679d978e6', '1878c8d6e118542d', '1878c8bce917a273', '1878c8ad54dd146d', '1878c8a2dbebc3ea', '1878c847f4a0b39d', '1878c8358ec18159', '1878c82619f11df8', '1878c8190144e6dc', '1878c75e590f2ae8', '1878c75150fa106e', '1878c74ed3a655f4', '1878c73f253aed2c', '1878c73766aeca0c', '1878c70625cd652e', '1878c7010a78719a', '1878c6d7991674f7', '187682b03b2f6b94', '1876826b546c9dc6', '187681cf201e3219', '1876818a7239f5bc', '1876810d29f63df8', '187681071ce4a4ba', '1876803219cf87c5', '18768012ac5bb1c4', '18767fe6f2af4e41', '18767f82e152068e', '18767f70291d4b04']\n",
      "HORA ['1878c7c0cd51d00c']\n",
      "PEDIDO ['1878c9347a4d38ee', '1878c922376d87c9', '1878c90585c15c1e', '1878c9031cc11f45', '1878c9007efdad7e', '1878c8f613c7e014', '1878c8e902b59380', '1878c8cf12d6f5c7', '1878c8cc6414b48e', '1878c8c7502e0ca7', '1878c8c4be77e946', '1878c8b53f139b1f', '1878c87beef60a08', '1878c8742f71bc8a', '1878c87186703ef8', '1878c806daf132dd', '1878c7fc62bced73', '1878c7ef9fdc73e8', '1878c7e7d3140907', '1878c7cdd27c0820', '1878c787badba282', '1878c77d6f39f7ad', '1878c77ad9a2a14f', '1878c760f45f5ea8', '1878c75909e6b091', '1878c6eef5b6b287', '1878c6e484ee1e85', '1878c6d2763b4681', '1878c6b5e7f8b2dd', '187681e8162eea82', '1876804ae835aacd', '187680383fc61849', '18767fe0a26d831a']\n",
      "ORDEM ['1878c9347a4d38ee', '1878c922376d87c9', '1878c90d6deb940b', '1878c90585c15c1e', '1878c9031cc11f45', '1878c9007efdad7e', '1878c8f613c7e014', '1878c8f36b3a708e', '1878c8e902b59380', '1878c8e1509b43e1', '1878c8cf12d6f5c7', '1878c8cc6414b48e', '1878c8c7502e0ca7', '1878c8c4be77e946', '1878c8b53f139b1f', '1878c87beef60a08', '1878c8742f71bc8a', '1878c87186703ef8', '1878c80eb1aa464b', '1878c806daf132dd', '1878c7fc62bced73', '1878c7ef9fdc73e8', '1878c7e7d3140907', '1878c7e535e3ac7b', '1878c7cdd27c0820', '1878c78a7103e5b5', '1878c787badba282', '1878c77d6f39f7ad', '1878c77ad9a2a14f', '1878c77061c4b17c', '1878c760f45f5ea8', '1878c75909e6b091', '1878c746e6a57c13', '1878c6eef5b6b287', '1878c6e484ee1e85', '1878c6d2763b4681', '1878c6b5e7f8b2dd', '187681e8162eea82', '1876804ae835aacd', '187680383fc61849', '18767fe0a26d831a']\n"
     ]
    }
   ],
>>>>>>> f90bfd077b13d593612e12e151c555ce9acc12ae
   "source": [
    "userID = 'me'\n",
    "words = ['REEMBOLSO', 'CONTA', 'ENTREGA', 'CONTATO', 'PAGAMENTO', 'FATURA', 'CANCELAMENTO', 'RASTREAR', 'NOTÍCIAS', 'OPINIÃO', 'HORA', 'PEDIDO', 'ORDEM']\n",
    "IDs = {}\n",
    "\n",
    "\n",
    "for word in words:\n",
    "    IDs_palavras = searchStringMessage(service, userID, word)\n",
    "    IDs[word] = IDs_palavras\n",
    "\n",
    "#visualizar as mensagens de cada ID.\n",
    "for word, ids in IDs.items():\n",
    "    print(f'A palavra \\'{word}\\' tem {len(ids)} IDs correspondentes.')\n",
    "\n",
    "\n",
    "for word, ids in IDs.items():\n",
    "    print(word, ids)"
   ]
  },
  {
   "cell_type": "code",
<<<<<<< HEAD
   "execution_count": null,
=======
   "execution_count": 37,
>>>>>>> f90bfd077b13d593612e12e151c555ce9acc12ae
   "metadata": {},
   "outputs": [],
   "source": [
    "def searchLabel(labelList, labelName):\n",
    "    \"\"\"\n",
    "    Esta função procura e compara se o label existe em uma lista ou não\n",
    "    Args:\n",
    "        labelList: lista para realizar a comparação\n",
    "        labelName: nome a ser procurado na lista\n",
    "    Returns: 0 para \"achado\" 1 para \"não encontrado\n",
    "    \"\"\"        \n",
    "\n",
    "    for i in labelList:\n",
    "        if(str(labelName) == str(i)):\n",
    "            return 0\n",
    "\n",
    "    return 1"
   ]
  },
  {
   "cell_type": "code",
<<<<<<< HEAD
   "execution_count": null,
   "metadata": {},
   "outputs": [],
=======
   "execution_count": 38,
   "metadata": {},
   "outputs": [
    {
     "name": "stdout",
     "output_type": "stream",
     "text": [
      "['CHAT', 'SENT', 'INBOX', 'IMPORTANT', 'TRASH', 'DRAFT', 'SPAM', 'CATEGORY_FORUMS', 'CATEGORY_UPDATES', 'CATEGORY_PERSONAL', 'CATEGORY_PROMOTIONS', 'CATEGORY_SOCIAL', 'STARRED', 'UNREAD', 'REEMBOLSO', 'CONTA', 'ENTREGA', 'CONTATO', 'PAGAMENTO', 'FATURA', 'RASTREAR', 'NOTÍCIAS', 'OPINIÃO', 'HORA', 'PEDIDO', 'CANCELAMENTO']\n",
      "Rótulo \"REEMBOLSO\" já existe\n",
      "Rótulo \"CONTA\" já existe\n",
      "Rótulo \"ENTREGA\" já existe\n",
      "Rótulo \"CONTATO\" já existe\n",
      "Rótulo \"PAGAMENTO\" já existe\n",
      "Rótulo \"FATURA\" já existe\n",
      "Rótulo \"CANCELAMENTO\" já existe\n",
      "Rótulo \"RASTREAR\" já existe\n",
      "Rótulo \"NOTÍCIAS\" já existe\n",
      "Rótulo \"OPINIÃO\" já existe\n",
      "Rótulo \"HORA\" já existe\n",
      "Rótulo \"PEDIDO\" já existe\n",
      "Rótulo \"ORDEM\" criado com sucesso!\n"
     ]
    }
   ],
>>>>>>> f90bfd077b13d593612e12e151c555ce9acc12ae
   "source": [
    "created_label = {}\n",
    "created_label_name = []\n",
    "\n",
    "label_list = service.users().labels().list(userId=userID).execute()\n",
    "\n",
    "size = len(label_list['labels'])\n",
    "i = 0\n",
    "labels = []#lista com o nome dos labels\n",
    "\n",
    "while size > 0: #colocar o nome de todos os labels em uma lista\n",
    "    label = label_list['labels'][i]['name']\n",
    "    labels.append(label)\n",
    "    size -= 1\n",
    "    i += 1\n",
    "    \n",
    "print(labels)\n",
    "\n",
    "for word in words:\n",
    "    \n",
    "    try: \n",
    "        label_name = word\n",
    "        label = {'name': label_name, 'labelListVisibility': 'labelShow'}\n",
    "        \n",
    "        if(searchLabel(labels, label_name) == 1): #vai procurar na lista se já existe o nome do label atual\n",
    "            created_label[label_name] = service.users().labels().create(userId='me', body=label).execute()\n",
    "            print(f'Rótulo \"{label_name}\" criado com sucesso!')\n",
    "            created_label_name.append(label_name)#chamada da API para criar o label\n",
    "        else:\n",
    "            print(f'Rótulo \"{label_name}\" já existe')\n",
    "    \n",
    "    except Exception as error:\n",
    "        print(\"ocorreu um erro: \", error)"
   ]
  },
  {
   "cell_type": "code",
<<<<<<< HEAD
   "execution_count": null,
   "metadata": {},
   "outputs": [],
=======
   "execution_count": 39,
   "metadata": {},
   "outputs": [
    {
     "name": "stdout",
     "output_type": "stream",
     "text": [
      "{'ORDEM': {'id': 'Label_155', 'name': 'ORDEM', 'messageListVisibility': 'show', 'labelListVisibility': 'labelShow'}}\n",
      "['ORDEM']\n",
      "['Label_155']\n"
     ]
    }
   ],
>>>>>>> f90bfd077b13d593612e12e151c555ce9acc12ae
   "source": [
    "print(created_label)\n",
    "print(created_label_name)\n",
    "label_id = []\n",
    "for i in created_label_name:\n",
    "    try:\n",
    "        label_id.append(created_label[i]['id'])\n",
    "   \n",
    "    except Exception as error:\n",
    "        print(\"ocorreu um erro\", error)\n",
    "        \n",
<<<<<<< HEAD
    "print(label_id)"
=======
    "print(label_id)\n"
>>>>>>> f90bfd077b13d593612e12e151c555ce9acc12ae
   ]
  },
  {
   "cell_type": "code",
<<<<<<< HEAD
   "execution_count": null,
=======
   "execution_count": 40,
>>>>>>> f90bfd077b13d593612e12e151c555ce9acc12ae
   "metadata": {},
   "outputs": [
    {
     "name": "stdout",
     "output_type": "stream",
     "text": [
      "A palavra 'ORDEM' tem 41 IDs correspondentes.\n"
     ]
    }
   ],
   "source": [
    "i = 0\n",
    "\n",
    "for word, ids in IDs.items():\n",
    "    \n",
    "    for label in created_label:\n",
    "        if word == label: #apenas irá executar o trecho abaixo se o 'word' for um dos labels novos criados\n",
    "            print(f'A palavra \\'{word}\\' tem {len(ids)} IDs correspondentes.')\n",
    "            \n",
    "            labelId = label_id[i]\n",
    "            i += 1\n",
    "            for message_id in ids:\n",
    "                label_body = {\n",
    "                    'removeLabelIds': ['IMPORTANT', 'CATEGORY_UPDATES', 'INBOX'],\n",
    "                    'addLabelIds': [labelId]\n",
    "                    }\n",
    "                service.users().messages().modify(userId='me', id=message_id, body=label_body).execute()"
   ]
  },
  {
   "cell_type": "code",
<<<<<<< HEAD
   "execution_count": null,
   "metadata": {},
   "outputs": [],
=======
   "execution_count": 41,
   "metadata": {},
   "outputs": [
    {
     "name": "stdout",
     "output_type": "stream",
     "text": [
      "CHAT\n",
      "SENT\n",
      "INBOX\n",
      "IMPORTANT\n",
      "TRASH\n",
      "DRAFT\n",
      "SPAM\n",
      "CATEGORY_FORUMS\n",
      "CATEGORY_UPDATES\n",
      "CATEGORY_PERSONAL\n",
      "CATEGORY_PROMOTIONS\n",
      "CATEGORY_SOCIAL\n",
      "STARRED\n",
      "UNREAD\n",
      "REEMBOLSO\n",
      "CONTA\n",
      "ENTREGA\n",
      "CONTATO\n",
      "PAGAMENTO\n",
      "FATURA\n",
      "RASTREAR\n",
      "NOTÍCIAS\n",
      "OPINIÃO\n",
      "HORA\n",
      "PEDIDO\n",
      "CANCELAMENTO\n",
      "ORDEM\n"
     ]
    }
   ],
>>>>>>> f90bfd077b13d593612e12e151c555ce9acc12ae
   "source": [
    "labels = service.users().labels().list(userId='me').execute()\n",
    "for label in labels['labels']:\n",
    "    print(label['name'])"
   ]
  }
 ],
 "metadata": {
  "kernelspec": {
   "display_name": "Python 3",
   "language": "python",
   "name": "python3"
  },
  "language_info": {
   "name": "python",
<<<<<<< HEAD
   "version": "3.11.2"
=======
   "nbconvert_exporter": "python",
   "pygments_lexer": "ipython3",
   "version": "3.11.3"
>>>>>>> f90bfd077b13d593612e12e151c555ce9acc12ae
  },
  "orig_nbformat": 4
 },
 "nbformat": 4,
 "nbformat_minor": 2
}
