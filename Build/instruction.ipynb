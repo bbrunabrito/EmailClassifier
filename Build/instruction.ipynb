{
 "cells": [
  {
   "cell_type": "code",
   "execution_count": 1,
   "metadata": {},
   "outputs": [],
   "source": [
    "import os.path\n",
    "from google.auth.transport.requests import Request\n",
    "from google.oauth2.credentials import Credentials\n",
    "from google_auth_oauthlib.flow import InstalledAppFlow\n",
    "from googleapiclient.discovery import build\n",
    "from googleapiclient.errors import HttpError\n",
    "import base64\n",
    "import pandas as pd \n",
    "import time\n",
    "from email.mime.text import MIMEText\n",
    "import email\n",
    "import traceback\n"
   ]
  },
  {
   "cell_type": "code",
   "execution_count": 2,
   "metadata": {},
   "outputs": [],
   "source": [
    "SCOPES = ['https://www.googleapis.com/auth/gmail.readonly', \n",
    "          'https://www.googleapis.com/auth/gmail.modify']\n",
    "\n",
    "creds = Credentials.from_authorized_user_file('token.json', SCOPES)\n",
    "service = build('gmail', 'v1', credentials=creds)"
   ]
  },
  {
   "cell_type": "code",
   "execution_count": 3,
   "metadata": {},
   "outputs": [
    {
     "data": {
      "text/plain": [
       "[{'id': '18768307d8edfbb3', 'threadId': '18768307d8edfbb3'},\n",
       " {'id': '187683018e887241', 'threadId': '187683018e887241'},\n",
       " {'id': '187682fb5fba71c7', 'threadId': '187682fb5fba71c7'},\n",
       " {'id': '187682f51ca0fd38', 'threadId': '187682f51ca0fd38'},\n",
       " {'id': '187682eed211bb6b', 'threadId': '187682eed211bb6b'},\n",
       " {'id': '187682e88037ce28', 'threadId': '187682e88037ce28'},\n",
       " {'id': '187682e24441f3ed', 'threadId': '187682e24441f3ed'},\n",
       " {'id': '187682dc0fd6d853', 'threadId': '187682dc0fd6d853'},\n",
       " {'id': '187682d5cb6e1cbe', 'threadId': '187682d5cb6e1cbe'},\n",
       " {'id': '187682cf862166ce', 'threadId': '187682cf862166ce'}]"
      ]
     },
     "execution_count": 3,
     "metadata": {},
     "output_type": "execute_result"
    }
   ],
   "source": [
    "#Função que escreve os emails em um arquivo txt\n",
    "def get_emails():\n",
    "    with open('emails.txt', 'w', encoding='utf-8') as f:\n",
    "        try:\n",
    "            service = build('gmail', 'v1', credentials=creds)\n",
    "            results = service.users().messages().list(userId='me', maxResults=10).execute()\n",
    "            messages = results.get('messages', [])\n",
    "\n",
    "            for message in messages:\n",
    "                msg = service.users().messages().get(userId='me', id=message['id']).execute()\n",
    "                payload = msg['payload']\n",
    "                headers = payload['headers']\n",
    "                \n",
    "                #Escreve o remetente, o assunto e a data\n",
    "                for header in headers:\n",
    "                    if header['name'] == 'From':\n",
    "                        f.write(f\"From: {header['value']}\\n\")\n",
    "                    if header['name'] == 'Subject':\n",
    "                        f.write(f\"Subject: {header['value']}\\n\")\n",
    "                    if header['name'] == 'Date':\n",
    "                        f.write(f\"Date: {header['value']}\\n\")\n",
    "                \n",
    "                #Se o corpo do email está vazio ou não segue o padrao MIME, a mensagem abaixo é escrita e o loop volta\n",
    "                if 'parts' not in payload:\n",
    "                    f.write(\"e-mail não contem nenhuma parte com o tipo MIME\\n\")\n",
    "                    f.write(\"---------------------------------------------------------\\n\")    \n",
    "                    continue\n",
    "            \n",
    "                #Escreve o corpo do email\n",
    "                parts = payload['parts']\n",
    "                for part in parts:\n",
    "                    if part['mimeType'] == 'text/plain':\n",
    "                        body = part['body']['data']\n",
    "                        decoded_body = base64.urlsafe_b64decode(body).decode('utf-8')\n",
    "                        f.write(f\"Body: {decoded_body}\\n\")\n",
    "\n",
    "                f.write(\"---------------------------------------------------------\\n\")\n",
    "        except HttpError as error:\n",
    "            f.write(f\"An error occurred: {error}\\n\")\n",
    "            messages = []\n",
    "\n",
    "    return messages\n",
    "\n",
    "get_emails()"
   ]
  },
  {
   "cell_type": "code",
   "execution_count": 5,
   "metadata": {},
   "outputs": [],
   "source": [
    "def searchStringMessage(service, userID, searchString):\n",
    "    \"\"\"\n",
    "    Esta função irá retornar a lista com ID das mensagem que possuem a string (palavra) em questão\n",
    "    Args:\n",
    "        service: autenticação da API\n",
    "        userID: id do usuário, no caso, o cliente, será sempre \"me\"(eu)\n",
    "        searchString: apenas retornará as mensagem com o texto ou palavra presente presente\n",
    "    Returns: lista com todos os IDs com a searchString em específico.\n",
    "    \"\"\"\n",
    "    try: \n",
    "        idList = [] #inicializando a lista\n",
    "        \n",
    "        #adquirindo a mensagem (aonde a mágica acontece!)\n",
    "        searchIds = service.users().messages().list(userId=userID, q=searchString).execute()\n",
    "        \n",
    "        try:\n",
    "            EmailIds = searchIds ['messages']\n",
    "        except KeyError:\n",
    "            print(\"retornado 0 resultados\")\n",
    "            return idList\n",
    "        \n",
    "        if len(EmailIds)>=1:    #anexa todos os emails na lista \"idList\"\n",
    "            for msg_id in EmailIds:\n",
    "                idList.append(msg_id['id'])\n",
    "            return (idList)\n",
    "    except HttpError as error:\n",
    "        print(\"ocorreu um erro: %s\", error) "
   ]
  },
  {
   "cell_type": "code",
   "execution_count": 6,
   "metadata": {},
   "outputs": [],
   "source": [
    "def viewMessage(service, userID, msgID):\n",
    "    \"\"\"\n",
    "    Esta função mostra os emails presente na lista de ID\n",
    "    Args:\n",
    "        service: autenticação da API\n",
    "        userID: id do usuário, no caso, o cliente, será sempre \"me\"(eu)\n",
    "        msgID: iD da mensagem em questão\n",
    "    Returns: o email em sua parte texto e html\n",
    "    \"\"\"\n",
    "    try:\n",
    "        message = service.users().messages().get(userId=userID, id=msgID, format='raw').execute() #retorna a mensagem em formato raw codificado em base64\n",
    "        mime_msg = email.message_from_bytes(base64.urlsafe_b64decode(message['raw']))\n",
    "        \n",
    "        print(\"-----\")        \n",
    "        contentType = mime_msg.get_content_maintype()\n",
    "        if contentType == 'multipart':\n",
    "            for part in mime_msg.get_payload():\n",
    "                if part.get_content_maintype() == 'text':\n",
    "                    print(part.get_payload())\n",
    "        elif contentType == 'text':\n",
    "            print(mime_msg.get_payload())\n",
    "        print(\"-----\")\n",
    "        \n",
    "    except Exception as error:\n",
    "        print(\"ocorreu um erro: %s\", error)"
   ]
  },
  {
   "cell_type": "code",
   "execution_count": 7,
   "metadata": {},
   "outputs": [],
   "source": [
    "def viewMessageSnippet(service, userID, msgID):\n",
    "    \"\"\"\n",
    "    Esta função mostra os emails presente na lista de ID, apenas o subject e o snippet da mensagem\n",
    "    Args:\n",
    "        service: autenticação da API\n",
    "        userID: id do usuário, no caso, o cliente, será sempre \"me\"(eu)\n",
    "        msgID: iD da mensagem em questão\n",
    "    Returns: o snippet do email\n",
    "    \"\"\"\n",
    "    try:\n",
    "        message = service.users().messages().get(userId=userID, id=msgID, format='raw').execute() #retorna a mensagem em formato raw codificado em base64\n",
    "        mime_msg = email.message_from_bytes(base64.urlsafe_b64decode(message['raw']))\n",
    "        \n",
    "        #print(mime_msg['from']) mostrar o email do remetente       \n",
    "        #print(mime_msg['to'])  mostrar o email do destinatário\n",
    "        print(mime_msg['subject'])\n",
    "        print(message['snippet'])\n",
    "        print(' ')\n",
    "        \n",
    "    except Exception as error:\n",
    "        print(\"ocorreu um erro: %s\", error) "
   ]
  },
  {
   "cell_type": "code",
   "execution_count": 8,
   "metadata": {},
   "outputs": [
    {
     "name": "stdout",
     "output_type": "stream",
     "text": [
      "A palavra 'REEMBOLSO' tem 16 IDs correspondentes.\n",
      "A palavra 'CONTA' tem 49 IDs correspondentes.\n",
      "A palavra 'ENTREGA' tem 33 IDs correspondentes.\n",
      "A palavra 'CONTATO' tem 10 IDs correspondentes.\n",
      "A palavra 'PAGAMENTO' tem 15 IDs correspondentes.\n",
      "A palavra 'FATURA' tem 9 IDs correspondentes.\n",
      "A palavra 'CANCELAMENTO' tem 9 IDs correspondentes.\n",
      "A palavra 'RASTREAR' tem 6 IDs correspondentes.\n",
      "A palavra 'NOTÍCIAS' tem 8 IDs correspondentes.\n",
      "A palavra 'OPINIÃO' tem 11 IDs correspondentes.\n",
      "REEMBOLSO ['18768307d8edfbb3', '187682f51ca0fd38', '1876829727fdf59d', '1876825267899f5d', '18768213f3eeb60e', '187681e1ed969f0d', '18768196e3eeeb21', '187680fa773b0464', '187680a8ff7fde48', '1876807d3ea1e4b8', '1876802bab007ac1', '1876801f2c0f33e8', '18767fc7aab8a5e3', '18767fbb3d4f35fe', '1872a61a746b36ea', '1872a5edd6237caf']\n",
      "CONTA ['187682c92439722a', '187682a3b4702937', '18768290e8e28730', '187682847b1e414c', '1876827e0dd30e5f', '18768271b4356f00', '18768258b296d44a', '1876824c286a1ef6', '1876823f91426bda', '187682396ec5d17f', '18768226bedc522c', '187681f4a82868e7', '187681db8d51bde1', '187681c8c3d781de', '187681affa3c3c26', '187681a35586943d', '1876819d2742f000', '1876817df316ec75', '18768177b4c847f1', '187681714b0fca74', '1876815eb25be408', '18768132d9ec6905', '187681264e3181b0', '187680e7c32d19d3', '187680c84ba4eef5', '1876808ffe8a5b60', '18768076e3dce66b', '1876805db6b97dab', '1876805783fc8a5f', '18768051545c4e94', '1876803e7e7756a1', '18767ff37adda0f4', '18767fed4cdcdbc8', '18767fb4fa89fcf0', '18767faeb73fce25', '18767fa861043243', '18767f8f817dfe8e', '18767f892bbdb289', '1872da4f941a554a', '1872a63092c4af32', '1872a6257de6494f', '1872a60f538c0bdd', '1872a5f936d5f807', '1872a5e20f134ed7', '1872a5a7b118d310', '1872a59c9d2e0ec5', '1872a5653df83d0d', '1872a546f3fea20e', '1872928164871315']\n",
      "ENTREGA ['187682eed211bb6b', '187682e88037ce28', '187682cf862166ce', '187682c2e9b64621', '187682b66e3e0e33', '187682aa00520abd', '1876825eefbe5859', '18768245df9b08e5', '1876822ce03b7a7d', '1876822061b9db73', '1876821a1caa27cc', '187682013adbf689', '187681bc7a3a5ff8', '18768190ade53542', '187681522d7b3693', '1876814be2c17f2a', '18768113746daab3', '187680c1eaa19eb4', '187680bbc058be18', '187680b5898cbe14', '1876809c6b2a816c', '18768083526281d8', '18768063ea4fba33', '187680256ad21c40', '1876800c6a2cfc77', '18767ffff1b89327', '18767fd42f482376', '18767fc168612882', '18767fa22be4ec4f', '1872a6043138dfed', '1872a591796fe935', '1872a58649ec8a8e', '1872a570339c83a0']\n",
      "CONTATO ['187682d5cb6e1cbe', '187682bca1da1559', '187682333a05c58e', '1876820da81c9221', '187680ede79963bd', '187680e183f36a6d', '187680db0eabdc44', '187680963eda9e38', '18768089b4890752', '1872a5c8f4a2621f']\n",
      "PAGAMENTO ['1876829d7f419a59', '1876820767479733', '187681faf0b2e093', '187681b601dbec38', '1876816b231f8ccb', '1876813f7bc4343a', '187680f437432226', '187680d4ccfc5234', '187680af3b5a15b6', '1876807095c7b86f', '18768006237feff4', '18767ff9db29a01a', '18767fda85f566ca', '1872d9a4beca4b8b', '1872a5bddc955778']\n",
      "FATURA ['187683018e887241', '187682dc0fd6d853', '1876828aa8ffcf34', '187681ee508c1a3a', '18768164f7142880', '18768100a7b60c62', '187680cea08ecb6c', '18767f69ff413b23', '1872d9a4beca4b8b']\n",
      "CANCELAMENTO ['18768277fadbf6d6', '187681a9a0dc48da', '187681841b02173e', '18768145a1034c1b', '18768044fcd7fe18', '18767f9588d458e0', '18767f7cb92d8f89', '1872a5d45d322cf4', '1872a57b48afc0ba']\n",
      "RASTREAR ['187681e8162eea82', '1876804ae835aacd', '187680383fc61849', '1876802bab007ac1', '18767fe0a26d831a', '1872a5edd6237caf']\n",
      "NOTÍCIAS ['187681587eb40d94', '1876812c952e2ef6', '18768119a614d137', '187680a2aab1c29a', '1876806a72358939', '18767f9befe9a10f', '18767f63c2b6e664', '1872928164871315']\n",
      "OPINIÃO ['187682b03b2f6b94', '1876826b546c9dc6', '187681cf201e3219', '1876818a7239f5bc', '1876810d29f63df8', '187681071ce4a4ba', '1876803219cf87c5', '18768012ac5bb1c4', '18767fe6f2af4e41', '18767f82e152068e', '18767f70291d4b04']\n"
     ]
    }
   ],
   "source": [
    "userID = 'me'\n",
    "words = ['REEMBOLSO', 'CONTA', 'ENTREGA', 'CONTATO', 'PAGAMENTO', 'FATURA', 'CANCELAMENTO', 'RASTREAR', 'NOTÍCIAS', 'OPINIÃO']\n",
    "IDs = {}\n",
    "\n",
    "\n",
    "for word in words:\n",
    "    IDs_palavras = searchStringMessage(service, userID, word)\n",
    "    IDs[word] = IDs_palavras\n",
    "\n",
    "#visualizar as mensagens de cada ID.\n",
    "for word, ids in IDs.items():\n",
    "    print(f'A palavra \\'{word}\\' tem {len(ids)} IDs correspondentes.')\n",
    "\n",
    "\n",
    "for word, ids in IDs.items():\n",
    "    print(word, ids)"
   ]
  },
  {
   "cell_type": "code",
   "execution_count": 9,
   "metadata": {},
   "outputs": [
    {
     "ename": "HttpError",
     "evalue": "<HttpError 409 when requesting https://gmail.googleapis.com/gmail/v1/users/me/labels?alt=json returned \"Label name exists or conflicts\". Details: \"[{'message': 'Label name exists or conflicts', 'domain': 'global', 'reason': 'aborted'}]\">",
     "output_type": "error",
     "traceback": [
      "\u001b[0;31m---------------------------------------------------------------------------\u001b[0m",
      "\u001b[0;31mHttpError\u001b[0m                                 Traceback (most recent call last)",
      "Cell \u001b[0;32mIn[9], line 6\u001b[0m\n\u001b[1;32m      4\u001b[0m label_name \u001b[39m=\u001b[39m word\n\u001b[1;32m      5\u001b[0m label \u001b[39m=\u001b[39m {\u001b[39m'\u001b[39m\u001b[39mname\u001b[39m\u001b[39m'\u001b[39m: label_name, \u001b[39m'\u001b[39m\u001b[39mlabelListVisibility\u001b[39m\u001b[39m'\u001b[39m: \u001b[39m'\u001b[39m\u001b[39mlabelShow\u001b[39m\u001b[39m'\u001b[39m}\n\u001b[0;32m----> 6\u001b[0m created_label[label_name] \u001b[39m=\u001b[39m service\u001b[39m.\u001b[39;49musers()\u001b[39m.\u001b[39;49mlabels()\u001b[39m.\u001b[39;49mcreate(userId\u001b[39m=\u001b[39;49m\u001b[39m'\u001b[39;49m\u001b[39mme\u001b[39;49m\u001b[39m'\u001b[39;49m, body\u001b[39m=\u001b[39;49mlabel)\u001b[39m.\u001b[39;49mexecute()\n\u001b[1;32m      7\u001b[0m \u001b[39mprint\u001b[39m(\u001b[39mf\u001b[39m\u001b[39m'\u001b[39m\u001b[39mRótulo \u001b[39m\u001b[39m\"\u001b[39m\u001b[39m{\u001b[39;00mlabel_name\u001b[39m}\u001b[39;00m\u001b[39m\"\u001b[39m\u001b[39m criado com sucesso!\u001b[39m\u001b[39m'\u001b[39m)\n",
      "File \u001b[0;32m~/.local/lib/python3.10/site-packages/googleapiclient/_helpers.py:130\u001b[0m, in \u001b[0;36mpositional.<locals>.positional_decorator.<locals>.positional_wrapper\u001b[0;34m(*args, **kwargs)\u001b[0m\n\u001b[1;32m    128\u001b[0m     \u001b[39melif\u001b[39;00m positional_parameters_enforcement \u001b[39m==\u001b[39m POSITIONAL_WARNING:\n\u001b[1;32m    129\u001b[0m         logger\u001b[39m.\u001b[39mwarning(message)\n\u001b[0;32m--> 130\u001b[0m \u001b[39mreturn\u001b[39;00m wrapped(\u001b[39m*\u001b[39;49margs, \u001b[39m*\u001b[39;49m\u001b[39m*\u001b[39;49mkwargs)\n",
      "File \u001b[0;32m~/.local/lib/python3.10/site-packages/googleapiclient/http.py:938\u001b[0m, in \u001b[0;36mHttpRequest.execute\u001b[0;34m(self, http, num_retries)\u001b[0m\n\u001b[1;32m    936\u001b[0m     callback(resp)\n\u001b[1;32m    937\u001b[0m \u001b[39mif\u001b[39;00m resp\u001b[39m.\u001b[39mstatus \u001b[39m>\u001b[39m\u001b[39m=\u001b[39m \u001b[39m300\u001b[39m:\n\u001b[0;32m--> 938\u001b[0m     \u001b[39mraise\u001b[39;00m HttpError(resp, content, uri\u001b[39m=\u001b[39m\u001b[39mself\u001b[39m\u001b[39m.\u001b[39muri)\n\u001b[1;32m    939\u001b[0m \u001b[39mreturn\u001b[39;00m \u001b[39mself\u001b[39m\u001b[39m.\u001b[39mpostproc(resp, content)\n",
      "\u001b[0;31mHttpError\u001b[0m: <HttpError 409 when requesting https://gmail.googleapis.com/gmail/v1/users/me/labels?alt=json returned \"Label name exists or conflicts\". Details: \"[{'message': 'Label name exists or conflicts', 'domain': 'global', 'reason': 'aborted'}]\">"
     ]
    }
   ],
   "source": [
    "\n",
    "created_label = {}\n",
    "\n",
    "for word in words:\n",
    "    label_name = word\n",
    "    label = {'name': label_name, 'labelListVisibility': 'labelShow'}\n",
    "    created_label[label_name] = service.users().labels().create(userId='me', body=label).execute()\n",
    "    print(f'Rótulo \"{label_name}\" criado com sucesso!')\n",
    "\n"
   ]
  },
  {
   "cell_type": "code",
   "execution_count": 114,
   "metadata": {},
   "outputs": [
    {
     "name": "stdout",
     "output_type": "stream",
     "text": [
      "{'REEMBOLSO': {'id': 'Label_61', 'name': 'REEMBOLSO', 'messageListVisibility': 'show', 'labelListVisibility': 'labelShow'}, 'CONTA': {'id': 'Label_62', 'name': 'CONTA', 'messageListVisibility': 'show', 'labelListVisibility': 'labelShow'}, 'ENTREGA': {'id': 'Label_63', 'name': 'ENTREGA', 'messageListVisibility': 'show', 'labelListVisibility': 'labelShow'}, 'CONTATO': {'id': 'Label_64', 'name': 'CONTATO', 'messageListVisibility': 'show', 'labelListVisibility': 'labelShow'}, 'PAGAMENTO': {'id': 'Label_65', 'name': 'PAGAMENTO', 'messageListVisibility': 'show', 'labelListVisibility': 'labelShow'}, 'FATURA': {'id': 'Label_66', 'name': 'FATURA', 'messageListVisibility': 'show', 'labelListVisibility': 'labelShow'}, 'CANCELAMENTO': {'id': 'Label_67', 'name': 'CANCELAMENTO', 'messageListVisibility': 'show', 'labelListVisibility': 'labelShow'}, 'RASTREAR': {'id': 'Label_68', 'name': 'RASTREAR', 'messageListVisibility': 'show', 'labelListVisibility': 'labelShow'}, 'NOTÍCIAS': {'id': 'Label_69', 'name': 'NOTÍCIAS', 'messageListVisibility': 'show', 'labelListVisibility': 'labelShow'}, 'OPINIÃO': {'id': 'Label_70', 'name': 'OPINIÃO', 'messageListVisibility': 'show', 'labelListVisibility': 'labelShow'}}\n",
      "['Label_61', 'Label_62', 'Label_63', 'Label_64', 'Label_65', 'Label_66', 'Label_67', 'Label_68', 'Label_69', 'Label_70']\n"
     ]
    }
   ],
   "source": [
    "print(created_label)\n",
    "label_id = []\n",
    "for word in words:\n",
    "    label_id.append(created_label[word]['id'])\n",
    "\n",
    "print(label_id)\n"
   ]
  },
  {
   "cell_type": "code",
   "execution_count": 116,
   "metadata": {},
   "outputs": [],
   "source": [
    "i = 0\n",
    "\n",
    "for word, ids in IDs.items():\n",
    "    labelId = label_id[i]\n",
    "    i += 1\n",
    "    for message_id in ids:\n",
    "        label_body = {\n",
    "            'removeLabelIds': ['IMPORTANT', 'CATEGORY_UPDATES', 'INBOX'],\n",
    "            'addLabelIds': [labelId]\n",
    "        }\n",
    "        service.users().messages().modify(userId='me', id=message_id, body=label_body).execute()\n"
   ]
  },
  {
   "cell_type": "code",
   "execution_count": 86,
   "metadata": {},
   "outputs": [
    {
     "name": "stdout",
     "output_type": "stream",
     "text": [
      "CHAT\n",
      "SENT\n",
      "INBOX\n",
      "IMPORTANT\n",
      "TRASH\n",
      "DRAFT\n",
      "SPAM\n",
      "CATEGORY_FORUMS\n",
      "CATEGORY_UPDATES\n",
      "CATEGORY_PERSONAL\n",
      "CATEGORY_PROMOTIONS\n",
      "CATEGORY_SOCIAL\n",
      "STARRED\n",
      "UNREAD\n",
      "MinhaCategoria\n",
      "REEMBOLSO\n",
      "CONTA\n",
      "ENTREGA\n",
      "CONTATO\n",
      "PAGAMENTO\n",
      "FATURA\n",
      "CANCELAMENTO\n",
      "RASTREAR\n",
      "NOTÍCIAS\n",
      "OPINIÃO\n"
     ]
    }
   ],
   "source": [
    "labels = service.users().labels().list(userId='me').execute()\n",
    "for label in labels['labels']:\n",
    "    print(label['name'])"
   ]
  }
 ],
 "metadata": {
  "kernelspec": {
   "display_name": "Python 3",
   "language": "python",
   "name": "python3"
  },
  "language_info": {
   "codemirror_mode": {
    "name": "ipython",
    "version": 3
   },
   "file_extension": ".py",
   "mimetype": "text/x-python",
   "name": "python",
   "nbconvert_exporter": "python",
   "pygments_lexer": "ipython3",
   "version": "3.10.7"
  },
  "orig_nbformat": 4
 },
 "nbformat": 4,
 "nbformat_minor": 2
}
