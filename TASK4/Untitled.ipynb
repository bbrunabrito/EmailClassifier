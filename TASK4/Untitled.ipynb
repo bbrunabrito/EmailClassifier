{
 "cells": [
  {
   "cell_type": "code",
   "execution_count": 1,
   "id": "b54e6139",
   "metadata": {},
   "outputs": [],
   "source": [
    "# Imports\n",
    "from google.auth.transport.requests import Request\n",
    "from google.oauth2.credentials import Credentials\n",
    "from google_auth_oauthlib.flow import InstalledAppFlow\n",
    "from googleapiclient.discovery import build\n",
    "import base64\n",
    "from email.mime.text import MIMEText"
   ]
  },
  {
   "cell_type": "code",
   "execution_count": 2,
   "id": "96eb5cfd",
   "metadata": {},
   "outputs": [],
   "source": [
    "SCOPES = ['https://www.googleapis.com/auth/gmail.readonly', \n",
    "          'https://www.googleapis.com/auth/gmail.modify']"
   ]
  },
  {
   "cell_type": "code",
   "execution_count": 4,
   "id": "f8e9c1bc",
   "metadata": {},
   "outputs": [],
   "source": [
    "token = {\n",
    "    \"acess_toke\": \"ya29.a0Ael9sCOWRxf9F60GVZfHe9-XsyR8FMYkYJlOuXapk8tFcEU1SbtewOVr86qtdbSCbi7MBpwjMhLnH7N4WgbLmOtR1C8wlrMvtU6tYHl6Hte-OdeTO-Gm-4hCox9V72rYnU9yx7drCHItgvD6B8eDiQ2VopgHaCgYKAZoSARASFQF4udJhIqCZPAQaY0ozTH2ZrMWLxg0163\",\n",
    "    \"refresh_token\": \"1//0fBGbH7Gf4jSdCgYIARAAGA8SNwF-L9IreYERTzbs9n1-WmsIy0CjgeAxsLtSWoQpQYqqTVC2Jpq29smcZZoWj9UR3TJlCuc-x_k\",\n",
    "    \"token_uri\": \"https://oauth2.googleapis.com/token\",\n",
    "    \"client_id\": \"1005226472640-7haff975j6bab98l6dqrrobuoh7h2tli.apps.googleusercontent.com\",\n",
    "    \"client_secret\": \"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\", \n",
    "    \"scopes\": [\"https://www.googleapis.com/auth/gmail.readonly\", \"https://www.googleapis.com/auth/gmail.modify\"],\n",
    "    \"expiry\": \"2023-03-28T23:49:41.737578Z\"\n",
    "}"
   ]
  },
  {
   "cell_type": "code",
   "execution_count": 5,
   "id": "93ed9803",
   "metadata": {},
   "outputs": [],
   "source": [
    "creds = Credentials.from_authorized_user_info(token, SCOPES)"
   ]
  },
  {
   "cell_type": "code",
   "execution_count": 6,
   "id": "16c51d31",
   "metadata": {},
   "outputs": [],
   "source": [
    "service = build('gmail', 'v1', credentials=creds)\n"
   ]
  },
  {
   "cell_type": "code",
   "execution_count": 7,
   "id": "e4cedcef",
   "metadata": {},
   "outputs": [],
   "source": [
    "label_body = {\n",
    "    \"name\": \"Reembolso\",\n",
    "    \"messageListVisibility\": \"show\",\n",
    "    \"labelListVisibility\": \"labelShow\",\n",
    "}"
   ]
  },
  {
   "cell_type": "code",
   "execution_count": 8,
   "id": "d9544f61",
   "metadata": {},
   "outputs": [
    {
     "data": {
      "text/plain": [
       "{'id': 'Label_1',\n",
       " 'name': 'Reembolso',\n",
       " 'messageListVisibility': 'show',\n",
       " 'labelListVisibility': 'labelShow'}"
      ]
     },
     "execution_count": 8,
     "metadata": {},
     "output_type": "execute_result"
    }
   ],
   "source": [
    "service.users().labels().create(userId = 'me', body = label_body).execute()"
   ]
  },
  {
   "cell_type": "code",
   "execution_count": 9,
   "id": "2cec4157",
   "metadata": {},
   "outputs": [
    {
     "data": {
      "text/plain": [
       "{'messages': [{'id': '1872a61a746b36ea', 'threadId': '1872a61a746b36ea'},\n",
       "  {'id': '1872a5edd6237caf', 'threadId': '1872a5edd6237caf'}],\n",
       " 'resultSizeEstimate': 2}"
      ]
     },
     "execution_count": 9,
     "metadata": {},
     "output_type": "execute_result"
    }
   ],
   "source": [
    "service.users().messages().list(userId = 'me', q = 'subject:(Reembolso)', maxResults = 10).execute()"
   ]
  },
  {
   "cell_type": "code",
   "execution_count": 14,
   "id": "8abd841b",
   "metadata": {},
   "outputs": [],
   "source": [
    "label_body = {\n",
    "    'removeLabelIds': ['IMPORTANT', 'CATEGORY_UPDATES', 'INBOX'],\n",
    "    'addLabelIds': ['Label_1']\n",
    "}"
   ]
  },
  {
   "cell_type": "code",
   "execution_count": 15,
   "id": "d84499c0",
   "metadata": {},
   "outputs": [
    {
     "data": {
      "text/plain": [
       "{'id': '1872a5edd6237caf',\n",
       " 'threadId': '1872a5edd6237caf',\n",
       " 'labelIds': ['UNREAD', 'Label_1', 'CATEGORY_PERSONAL']}"
      ]
     },
     "execution_count": 15,
     "metadata": {},
     "output_type": "execute_result"
    }
   ],
   "source": [
    "service.users().messages().modify(userId='me', id='1872a5edd6237caf', body=label_body ).execute()"
   ]
  },
  {
   "cell_type": "code",
   "execution_count": null,
   "id": "cc7ec6e5",
   "metadata": {},
   "outputs": [],
   "source": []
  }
 ],
 "metadata": {
  "kernelspec": {
   "display_name": "Python 3 (ipykernel)",
   "language": "python",
   "name": "python3"
  },
  "language_info": {
   "codemirror_mode": {
    "name": "ipython",
    "version": 3
   },
   "file_extension": ".py",
   "mimetype": "text/x-python",
   "name": "python",
   "nbconvert_exporter": "python",
   "pygments_lexer": "ipython3",
   "version": "3.10.7"
  }
 },
 "nbformat": 4,
 "nbformat_minor": 5
}
